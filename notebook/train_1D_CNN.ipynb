{
 "cells": [
  {
   "cell_type": "markdown",
   "metadata": {},
   "source": [
    "## import packages"
   ]
  },
  {
   "cell_type": "code",
   "execution_count": 1,
   "metadata": {},
   "outputs": [],
   "source": [
    "import os\n",
    "import pandas as pd\n",
    "import numpy as np"
   ]
  },
  {
   "cell_type": "code",
   "execution_count": 2,
   "metadata": {},
   "outputs": [
    {
     "name": "stderr",
     "output_type": "stream",
     "text": [
      "c:\\users\\xinyi\\anaconda3\\envs\\keras\\lib\\site-packages\\h5py\\__init__.py:36: FutureWarning: Conversion of the second argument of issubdtype from `float` to `np.floating` is deprecated. In future, it will be treated as `np.float64 == np.dtype(float).type`.\n",
      "  from ._conv import register_converters as _register_converters\n",
      "Using TensorFlow backend.\n"
     ]
    }
   ],
   "source": [
    "import keras\n",
    "from keras.models import Sequential, Model\n",
    "from keras.layers import Conv1D, GlobalAveragePooling1D, MaxPooling1D\n",
    "from keras.layers import Dense, Dropout, Reshape, Flatten, Activation, Add, Input\n",
    "from keras.layers.normalization import BatchNormalization\n",
    "\n",
    "import tensorflow as tf\n",
    "from sklearn.metrics import roc_auc_score"
   ]
  },
  {
   "cell_type": "markdown",
   "metadata": {},
   "source": [
    "## prepare notebook"
   ]
  },
  {
   "cell_type": "code",
   "execution_count": 3,
   "metadata": {},
   "outputs": [],
   "source": [
    "# config project folder\n",
    "os.chdir('../')"
   ]
  },
  {
   "cell_type": "code",
   "execution_count": 4,
   "metadata": {},
   "outputs": [],
   "source": [
    "# config notebook display\n",
    "%matplotlib inline\n",
    "pd.set_option(\"display.max_rows\", None)\n",
    "pd.set_option('display.max_columns', None)"
   ]
  },
  {
   "cell_type": "markdown",
   "metadata": {},
   "source": [
    "## read pre-processed data"
   ]
  },
  {
   "cell_type": "code",
   "execution_count": 5,
   "metadata": {},
   "outputs": [],
   "source": [
    "# load pre-processed data for features and labels\n",
    "features = np.load('data/safety/features_arr.npy')\n",
    "labels = np.load('data/safety/labels_arr.npy')"
   ]
  },
  {
   "cell_type": "code",
   "execution_count": 6,
   "metadata": {},
   "outputs": [
    {
     "name": "stdout",
     "output_type": "stream",
     "text": [
      "19968 3600 9\n"
     ]
    }
   ],
   "source": [
    "N = features.shape[0] # number of bookings (records)\n",
    "T = features.shape[1] # number of time slices (each time slice is a second)\n",
    "C = features.shape[2] # number of features (channels)\n",
    "\n",
    "print(N, T, C)"
   ]
  },
  {
   "cell_type": "markdown",
   "metadata": {},
   "source": [
    "## build resnet model"
   ]
  },
  {
   "cell_type": "code",
   "execution_count": 7,
   "metadata": {},
   "outputs": [],
   "source": [
    "def res_block(X,f,k,n):\n",
    "    X_shortcut = X\n",
    "    \n",
    "    X = Conv1D(filters=f,kernel_size=k,padding='same',name =n+'conv'+str(1))(X)\n",
    "    X = BatchNormalization(name=n+'batch'+str(1))(X)\n",
    "    X = Activation('relu')(X)\n",
    "    \n",
    "    X = Conv1D(filters=f,kernel_size=k,padding='same', name=n+'conv'+str(2))(X)\n",
    "    X = BatchNormalization(name=n+'batch'+str(2))(X)\n",
    "    \n",
    "    X  = Add()([X, X_shortcut])\n",
    "    X = Activation('relu')(X)\n",
    "    \n",
    "    return X"
   ]
  },
  {
   "cell_type": "code",
   "execution_count": 8,
   "metadata": {},
   "outputs": [],
   "source": [
    "def ResNet(input_shape):\n",
    "    X_input = Input(input_shape)\n",
    "    X = Conv1D(20, 5, activation='relu',padding='same', name='conv1')(X_input)\n",
    "    X = MaxPooling1D(3)(X)\n",
    "    X = Conv1D(40, 5, activation='relu',padding='same',name='conv2')(X)\n",
    "    X = res_block(X,40,5,'res11')\n",
    "    X = res_block(X,40,5,'res12')\n",
    "    X = MaxPooling1D(3)(X)\n",
    "    X = Conv1D(80, 5, activation='relu',padding='same',name='conv3')(X)\n",
    "    X = res_block(X,80,5,'res21')\n",
    "    X = res_block(X,80,5,'res22')\n",
    "    X = MaxPooling1D(4)(X)\n",
    "    X = Conv1D(160, 5, activation='relu',padding='same',name='conv4')(X)\n",
    "    X = res_block(X,160,5,'res31')\n",
    "    X = res_block(X,160,5,'res32')\n",
    "    X = MaxPooling1D(4)(X)\n",
    "    X = Conv1D(200, 5, activation='relu',padding='same',name='conv5')(X)\n",
    "    X = res_block(X,200,5,'res41')\n",
    "    X = res_block(X,200,5,'res42')\n",
    "    X = MaxPooling1D(2)(X)\n",
    "    X = Flatten()(X)\n",
    "    X = Dropout(0.5)(X)\n",
    "    X = Dense(40,activation='relu')(X)\n",
    "    X = Dense(1,activation='sigmoid')(X)\n",
    "    model = Model(inputs = X_input, outputs = X)\n",
    "    return model"
   ]
  },
  {
   "cell_type": "code",
   "execution_count": 9,
   "metadata": {},
   "outputs": [
    {
     "name": "stdout",
     "output_type": "stream",
     "text": [
      "__________________________________________________________________________________________________\n",
      "Layer (type)                    Output Shape         Param #     Connected to                     \n",
      "==================================================================================================\n",
      "input_1 (InputLayer)            (None, 3600, 9)      0                                            \n",
      "__________________________________________________________________________________________________\n",
      "conv1 (Conv1D)                  (None, 3600, 20)     920         input_1[0][0]                    \n",
      "__________________________________________________________________________________________________\n",
      "max_pooling1d_1 (MaxPooling1D)  (None, 1200, 20)     0           conv1[0][0]                      \n",
      "__________________________________________________________________________________________________\n",
      "conv2 (Conv1D)                  (None, 1200, 40)     4040        max_pooling1d_1[0][0]            \n",
      "__________________________________________________________________________________________________\n",
      "res11conv1 (Conv1D)             (None, 1200, 40)     8040        conv2[0][0]                      \n",
      "__________________________________________________________________________________________________\n",
      "res11batch1 (BatchNormalization (None, 1200, 40)     160         res11conv1[0][0]                 \n",
      "__________________________________________________________________________________________________\n",
      "activation_1 (Activation)       (None, 1200, 40)     0           res11batch1[0][0]                \n",
      "__________________________________________________________________________________________________\n",
      "res11conv2 (Conv1D)             (None, 1200, 40)     8040        activation_1[0][0]               \n",
      "__________________________________________________________________________________________________\n",
      "res11batch2 (BatchNormalization (None, 1200, 40)     160         res11conv2[0][0]                 \n",
      "__________________________________________________________________________________________________\n",
      "add_1 (Add)                     (None, 1200, 40)     0           res11batch2[0][0]                \n",
      "                                                                 conv2[0][0]                      \n",
      "__________________________________________________________________________________________________\n",
      "activation_2 (Activation)       (None, 1200, 40)     0           add_1[0][0]                      \n",
      "__________________________________________________________________________________________________\n",
      "res12conv1 (Conv1D)             (None, 1200, 40)     8040        activation_2[0][0]               \n",
      "__________________________________________________________________________________________________\n",
      "res12batch1 (BatchNormalization (None, 1200, 40)     160         res12conv1[0][0]                 \n",
      "__________________________________________________________________________________________________\n",
      "activation_3 (Activation)       (None, 1200, 40)     0           res12batch1[0][0]                \n",
      "__________________________________________________________________________________________________\n",
      "res12conv2 (Conv1D)             (None, 1200, 40)     8040        activation_3[0][0]               \n",
      "__________________________________________________________________________________________________\n",
      "res12batch2 (BatchNormalization (None, 1200, 40)     160         res12conv2[0][0]                 \n",
      "__________________________________________________________________________________________________\n",
      "add_2 (Add)                     (None, 1200, 40)     0           res12batch2[0][0]                \n",
      "                                                                 activation_2[0][0]               \n",
      "__________________________________________________________________________________________________\n",
      "activation_4 (Activation)       (None, 1200, 40)     0           add_2[0][0]                      \n",
      "__________________________________________________________________________________________________\n",
      "max_pooling1d_2 (MaxPooling1D)  (None, 400, 40)      0           activation_4[0][0]               \n",
      "__________________________________________________________________________________________________\n",
      "conv3 (Conv1D)                  (None, 400, 80)      16080       max_pooling1d_2[0][0]            \n",
      "__________________________________________________________________________________________________\n",
      "res21conv1 (Conv1D)             (None, 400, 80)      32080       conv3[0][0]                      \n",
      "__________________________________________________________________________________________________\n",
      "res21batch1 (BatchNormalization (None, 400, 80)      320         res21conv1[0][0]                 \n",
      "__________________________________________________________________________________________________\n",
      "activation_5 (Activation)       (None, 400, 80)      0           res21batch1[0][0]                \n",
      "__________________________________________________________________________________________________\n",
      "res21conv2 (Conv1D)             (None, 400, 80)      32080       activation_5[0][0]               \n",
      "__________________________________________________________________________________________________\n",
      "res21batch2 (BatchNormalization (None, 400, 80)      320         res21conv2[0][0]                 \n",
      "__________________________________________________________________________________________________\n",
      "add_3 (Add)                     (None, 400, 80)      0           res21batch2[0][0]                \n",
      "                                                                 conv3[0][0]                      \n",
      "__________________________________________________________________________________________________\n",
      "activation_6 (Activation)       (None, 400, 80)      0           add_3[0][0]                      \n",
      "__________________________________________________________________________________________________\n",
      "res22conv1 (Conv1D)             (None, 400, 80)      32080       activation_6[0][0]               \n",
      "__________________________________________________________________________________________________\n",
      "res22batch1 (BatchNormalization (None, 400, 80)      320         res22conv1[0][0]                 \n",
      "__________________________________________________________________________________________________\n",
      "activation_7 (Activation)       (None, 400, 80)      0           res22batch1[0][0]                \n",
      "__________________________________________________________________________________________________\n",
      "res22conv2 (Conv1D)             (None, 400, 80)      32080       activation_7[0][0]               \n",
      "__________________________________________________________________________________________________\n",
      "res22batch2 (BatchNormalization (None, 400, 80)      320         res22conv2[0][0]                 \n",
      "__________________________________________________________________________________________________\n",
      "add_4 (Add)                     (None, 400, 80)      0           res22batch2[0][0]                \n",
      "                                                                 activation_6[0][0]               \n",
      "__________________________________________________________________________________________________\n",
      "activation_8 (Activation)       (None, 400, 80)      0           add_4[0][0]                      \n",
      "__________________________________________________________________________________________________\n",
      "max_pooling1d_3 (MaxPooling1D)  (None, 100, 80)      0           activation_8[0][0]               \n",
      "__________________________________________________________________________________________________\n",
      "conv4 (Conv1D)                  (None, 100, 160)     64160       max_pooling1d_3[0][0]            \n",
      "__________________________________________________________________________________________________\n",
      "res31conv1 (Conv1D)             (None, 100, 160)     128160      conv4[0][0]                      \n",
      "__________________________________________________________________________________________________\n",
      "res31batch1 (BatchNormalization (None, 100, 160)     640         res31conv1[0][0]                 \n",
      "__________________________________________________________________________________________________\n",
      "activation_9 (Activation)       (None, 100, 160)     0           res31batch1[0][0]                \n",
      "__________________________________________________________________________________________________\n",
      "res31conv2 (Conv1D)             (None, 100, 160)     128160      activation_9[0][0]               \n",
      "__________________________________________________________________________________________________\n",
      "res31batch2 (BatchNormalization (None, 100, 160)     640         res31conv2[0][0]                 \n",
      "__________________________________________________________________________________________________\n",
      "add_5 (Add)                     (None, 100, 160)     0           res31batch2[0][0]                \n",
      "                                                                 conv4[0][0]                      \n",
      "__________________________________________________________________________________________________\n",
      "activation_10 (Activation)      (None, 100, 160)     0           add_5[0][0]                      \n",
      "__________________________________________________________________________________________________\n",
      "res32conv1 (Conv1D)             (None, 100, 160)     128160      activation_10[0][0]              \n",
      "__________________________________________________________________________________________________\n",
      "res32batch1 (BatchNormalization (None, 100, 160)     640         res32conv1[0][0]                 \n",
      "__________________________________________________________________________________________________\n",
      "activation_11 (Activation)      (None, 100, 160)     0           res32batch1[0][0]                \n",
      "__________________________________________________________________________________________________\n",
      "res32conv2 (Conv1D)             (None, 100, 160)     128160      activation_11[0][0]              \n",
      "__________________________________________________________________________________________________\n",
      "res32batch2 (BatchNormalization (None, 100, 160)     640         res32conv2[0][0]                 \n",
      "__________________________________________________________________________________________________\n",
      "add_6 (Add)                     (None, 100, 160)     0           res32batch2[0][0]                \n",
      "                                                                 activation_10[0][0]              \n",
      "__________________________________________________________________________________________________\n",
      "activation_12 (Activation)      (None, 100, 160)     0           add_6[0][0]                      \n",
      "__________________________________________________________________________________________________\n",
      "max_pooling1d_4 (MaxPooling1D)  (None, 25, 160)      0           activation_12[0][0]              \n",
      "__________________________________________________________________________________________________\n",
      "conv5 (Conv1D)                  (None, 25, 200)      160200      max_pooling1d_4[0][0]            \n",
      "__________________________________________________________________________________________________\n",
      "res41conv1 (Conv1D)             (None, 25, 200)      200200      conv5[0][0]                      \n",
      "__________________________________________________________________________________________________\n",
      "res41batch1 (BatchNormalization (None, 25, 200)      800         res41conv1[0][0]                 \n",
      "__________________________________________________________________________________________________\n",
      "activation_13 (Activation)      (None, 25, 200)      0           res41batch1[0][0]                \n",
      "__________________________________________________________________________________________________\n",
      "res41conv2 (Conv1D)             (None, 25, 200)      200200      activation_13[0][0]              \n",
      "__________________________________________________________________________________________________\n",
      "res41batch2 (BatchNormalization (None, 25, 200)      800         res41conv2[0][0]                 \n",
      "__________________________________________________________________________________________________\n",
      "add_7 (Add)                     (None, 25, 200)      0           res41batch2[0][0]                \n",
      "                                                                 conv5[0][0]                      \n",
      "__________________________________________________________________________________________________\n",
      "activation_14 (Activation)      (None, 25, 200)      0           add_7[0][0]                      \n",
      "__________________________________________________________________________________________________\n",
      "res42conv1 (Conv1D)             (None, 25, 200)      200200      activation_14[0][0]              \n",
      "__________________________________________________________________________________________________\n",
      "res42batch1 (BatchNormalization (None, 25, 200)      800         res42conv1[0][0]                 \n",
      "__________________________________________________________________________________________________\n",
      "activation_15 (Activation)      (None, 25, 200)      0           res42batch1[0][0]                \n",
      "__________________________________________________________________________________________________\n",
      "res42conv2 (Conv1D)             (None, 25, 200)      200200      activation_15[0][0]              \n",
      "__________________________________________________________________________________________________\n",
      "res42batch2 (BatchNormalization (None, 25, 200)      800         res42conv2[0][0]                 \n",
      "__________________________________________________________________________________________________\n",
      "add_8 (Add)                     (None, 25, 200)      0           res42batch2[0][0]                \n",
      "                                                                 activation_14[0][0]              \n",
      "__________________________________________________________________________________________________\n",
      "activation_16 (Activation)      (None, 25, 200)      0           add_8[0][0]                      \n",
      "__________________________________________________________________________________________________\n",
      "max_pooling1d_5 (MaxPooling1D)  (None, 12, 200)      0           activation_16[0][0]              \n",
      "__________________________________________________________________________________________________\n",
      "flatten_1 (Flatten)             (None, 2400)         0           max_pooling1d_5[0][0]            \n",
      "__________________________________________________________________________________________________\n",
      "dropout_1 (Dropout)             (None, 2400)         0           flatten_1[0][0]                  \n",
      "__________________________________________________________________________________________________\n",
      "dense_1 (Dense)                 (None, 40)           96040       dropout_1[0][0]                  \n",
      "__________________________________________________________________________________________________\n",
      "dense_2 (Dense)                 (None, 1)            41          dense_1[0][0]                    \n",
      "==================================================================================================\n",
      "Total params: 1,823,081\n",
      "Trainable params: 1,819,241\n",
      "Non-trainable params: 3,840\n",
      "__________________________________________________________________________________________________\n",
      "None\n"
     ]
    }
   ],
   "source": [
    "model = ResNet((T,C))\n",
    "print(model.summary())"
   ]
  },
  {
   "cell_type": "code",
   "execution_count": 10,
   "metadata": {},
   "outputs": [],
   "source": [
    "# define AUC ROC as a metrics\n",
    "def auroc(y_true, y_pred):\n",
    "    return tf.py_func(roc_auc_score, (y_true, y_pred), tf.double)"
   ]
  },
  {
   "cell_type": "code",
   "execution_count": 11,
   "metadata": {},
   "outputs": [],
   "source": [
    "# compile restnet\n",
    "model.compile(loss='binary_crossentropy', optimizer='adam', metrics=['accuracy', auroc])"
   ]
  },
  {
   "cell_type": "markdown",
   "metadata": {},
   "source": [
    "## model training"
   ]
  },
  {
   "cell_type": "code",
   "execution_count": 12,
   "metadata": {},
   "outputs": [],
   "source": [
    "BATCH_SIZE = 100\n",
    "EPOCHS = 100"
   ]
  },
  {
   "cell_type": "code",
   "execution_count": 13,
   "metadata": {},
   "outputs": [],
   "source": [
    "x_train = features\n",
    "y_train = labels"
   ]
  },
  {
   "cell_type": "code",
   "execution_count": 14,
   "metadata": {},
   "outputs": [],
   "source": [
    "callbacks_list = [\n",
    "    keras.callbacks.EarlyStopping(monitor='val_auroc', mode='max', verbose=1, patience=10),\n",
    "    keras.callbacks.ModelCheckpoint(\n",
    "        filepath='model/best_model.{epoch:02d}-{val_auroc:.2f}.h5',\n",
    "        monitor='val_auroc',mode='max', save_best_only=True)\n",
    "    ]"
   ]
  },
  {
   "cell_type": "code",
   "execution_count": 15,
   "metadata": {},
   "outputs": [
    {
     "name": "stdout",
     "output_type": "stream",
     "text": [
      "Train on 15974 samples, validate on 3994 samples\n",
      "Epoch 1/100\n",
      "15974/15974 [==============================] - 30s 2ms/step - loss: 0.5871 - acc: 0.7562 - auroc: 0.6514 - val_loss: 0.5437 - val_acc: 0.7516 - val_auroc: 0.6879\n",
      "Epoch 2/100\n",
      "15974/15974 [==============================] - 20s 1ms/step - loss: 0.5246 - acc: 0.7624 - auroc: 0.6812 - val_loss: 0.5313 - val_acc: 0.7692 - val_auroc: 0.6916\n",
      "Epoch 3/100\n",
      "15974/15974 [==============================] - 20s 1ms/step - loss: 0.5146 - acc: 0.7651 - auroc: 0.6895 - val_loss: 0.5154 - val_acc: 0.7619 - val_auroc: 0.7039\n",
      "Epoch 4/100\n",
      "15974/15974 [==============================] - 20s 1ms/step - loss: 0.5072 - acc: 0.7671 - auroc: 0.7064 - val_loss: 0.5211 - val_acc: 0.7641 - val_auroc: 0.6917\n",
      "Epoch 5/100\n",
      "15974/15974 [==============================] - 20s 1ms/step - loss: 0.4996 - acc: 0.7713 - auroc: 0.7147 - val_loss: 0.4880 - val_acc: 0.7767 - val_auroc: 0.7269\n",
      "Epoch 6/100\n",
      "15974/15974 [==============================] - 20s 1ms/step - loss: 0.4913 - acc: 0.7741 - auroc: 0.7276 - val_loss: 0.4888 - val_acc: 0.7787 - val_auroc: 0.7260\n",
      "Epoch 7/100\n",
      "15974/15974 [==============================] - 20s 1ms/step - loss: 0.4866 - acc: 0.7775 - auroc: 0.7327 - val_loss: 0.4883 - val_acc: 0.7764 - val_auroc: 0.7226\n",
      "Epoch 8/100\n",
      "15974/15974 [==============================] - 20s 1ms/step - loss: 0.4839 - acc: 0.7783 - auroc: 0.7342 - val_loss: 0.4781 - val_acc: 0.7842 - val_auroc: 0.7385\n",
      "Epoch 9/100\n",
      "15974/15974 [==============================] - 21s 1ms/step - loss: 0.4838 - acc: 0.7796 - auroc: 0.7358 - val_loss: 0.4879 - val_acc: 0.7842 - val_auroc: 0.7237\n",
      "Epoch 10/100\n",
      "15974/15974 [==============================] - 20s 1ms/step - loss: 0.4810 - acc: 0.7800 - auroc: 0.7379 - val_loss: 0.5018 - val_acc: 0.7754 - val_auroc: 0.7246\n",
      "Epoch 11/100\n",
      "15974/15974 [==============================] - 20s 1ms/step - loss: 0.4790 - acc: 0.7813 - auroc: 0.7408 - val_loss: 0.4846 - val_acc: 0.7789 - val_auroc: 0.7313\n",
      "Epoch 12/100\n",
      "15974/15974 [==============================] - 20s 1ms/step - loss: 0.4794 - acc: 0.7801 - auroc: 0.7377 - val_loss: 0.4806 - val_acc: 0.7847 - val_auroc: 0.7347\n",
      "Epoch 13/100\n",
      "15974/15974 [==============================] - 20s 1ms/step - loss: 0.4758 - acc: 0.7813 - auroc: 0.7439 - val_loss: 0.5153 - val_acc: 0.7692 - val_auroc: 0.7217\n",
      "Epoch 14/100\n",
      "15974/15974 [==============================] - 20s 1ms/step - loss: 0.4749 - acc: 0.7796 - auroc: 0.7449 - val_loss: 0.4758 - val_acc: 0.7842 - val_auroc: 0.7357\n",
      "Epoch 15/100\n",
      "15974/15974 [==============================] - 20s 1ms/step - loss: 0.4734 - acc: 0.7831 - auroc: 0.7478 - val_loss: 0.4869 - val_acc: 0.7802 - val_auroc: 0.7359\n",
      "Epoch 16/100\n",
      "15974/15974 [==============================] - 20s 1ms/step - loss: 0.4695 - acc: 0.7828 - auroc: 0.7521 - val_loss: 0.5131 - val_acc: 0.7759 - val_auroc: 0.7210\n",
      "Epoch 17/100\n",
      "15974/15974 [==============================] - 20s 1ms/step - loss: 0.4702 - acc: 0.7817 - auroc: 0.7519 - val_loss: 0.4819 - val_acc: 0.7854 - val_auroc: 0.7312\n",
      "Epoch 18/100\n",
      "15974/15974 [==============================] - 20s 1ms/step - loss: 0.4654 - acc: 0.7851 - auroc: 0.7611 - val_loss: 0.4819 - val_acc: 0.7809 - val_auroc: 0.7358\n",
      "Epoch 00018: early stopping\n"
     ]
    }
   ],
   "source": [
    "history = model.fit(x_train,\n",
    "                    y_train,\n",
    "                    batch_size=BATCH_SIZE,\n",
    "                    epochs=EPOCHS,\n",
    "                    callbacks=callbacks_list,\n",
    "                    validation_split=0.2,\n",
    "                    verbose=1)"
   ]
  }
 ],
 "metadata": {
  "kernelspec": {
   "display_name": "Python 3",
   "language": "python",
   "name": "python3"
  },
  "language_info": {
   "codemirror_mode": {
    "name": "ipython",
    "version": 3
   },
   "file_extension": ".py",
   "mimetype": "text/x-python",
   "name": "python",
   "nbconvert_exporter": "python",
   "pygments_lexer": "ipython3",
   "version": "3.6.0"
  }
 },
 "nbformat": 4,
 "nbformat_minor": 2
}
