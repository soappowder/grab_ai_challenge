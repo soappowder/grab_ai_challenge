{
 "cells": [
  {
   "cell_type": "markdown",
   "metadata": {},
   "source": [
    "## import packages"
   ]
  },
  {
   "cell_type": "code",
   "execution_count": 1,
   "metadata": {},
   "outputs": [],
   "source": [
    "import os\n",
    "import glob\n",
    "import pandas as pd\n",
    "from sklearn.preprocessing import RobustScaler\n",
    "import joblib\n",
    "# if the above import does not work, run the following line\n",
    "# from sklearn.externals import joblib \n",
    "import matplotlib.pyplot as plt\n",
    "import numpy as np\n",
    "import time"
   ]
  },
  {
   "cell_type": "markdown",
   "metadata": {},
   "source": [
    "## prepare notebook"
   ]
  },
  {
   "cell_type": "code",
   "execution_count": 2,
   "metadata": {},
   "outputs": [],
   "source": [
    "# config project folder\n",
    "os.chdir('../')\n",
    "\n",
    "# config notebook display\n",
    "%matplotlib inline\n",
    "pd.set_option(\"display.max_rows\", None)\n",
    "pd.set_option('display.max_columns', None)"
   ]
  },
  {
   "cell_type": "markdown",
   "metadata": {},
   "source": [
    "## load training features and labels"
   ]
  },
  {
   "cell_type": "code",
   "execution_count": 3,
   "metadata": {},
   "outputs": [],
   "source": [
    "def load_data(kind):\n",
    "    path ='data/safety/'+ kind\n",
    "    all_files = glob.glob(os.path.join(path, \"*.csv\")) \n",
    "    features = pd.concat((pd.read_csv(f) for f in all_files), ignore_index=True)\n",
    "    return features"
   ]
  },
  {
   "cell_type": "code",
   "execution_count": 4,
   "metadata": {},
   "outputs": [],
   "source": [
    "features = load_data(kind=\"features\")"
   ]
  },
  {
   "cell_type": "code",
   "execution_count": 5,
   "metadata": {},
   "outputs": [],
   "source": [
    "labels = load_data(kind=\"labels\")"
   ]
  },
  {
   "cell_type": "markdown",
   "metadata": {},
   "source": [
    "## data cleaning"
   ]
  },
  {
   "cell_type": "markdown",
   "metadata": {},
   "source": [
    "* some bookings have been labeled as both 0 and 1 --> remove these bookings from both features and labels"
   ]
  },
  {
   "cell_type": "code",
   "execution_count": 6,
   "metadata": {},
   "outputs": [],
   "source": [
    "# identify bookings IDs to be removed\n",
    "duplicated_bookingID = labels.bookingID[labels.bookingID.duplicated()]\n",
    "duplicated_booking = labels[labels.bookingID.isin(duplicated_bookingID)].sort_values('bookingID')\n",
    "\n",
    "# remove these booking IDs from labels\n",
    "labels_df = labels[~labels.bookingID.isin(duplicated_bookingID)]\n",
    "\n",
    "# remove these booking IDs from features\n",
    "features_df = features[~features.bookingID.isin(duplicated_bookingID)]"
   ]
  },
  {
   "cell_type": "markdown",
   "metadata": {},
   "source": [
    "* some records have abnormally big value for \"second\" (data error) --> remove these records from features"
   ]
  },
  {
   "cell_type": "code",
   "execution_count": 7,
   "metadata": {},
   "outputs": [],
   "source": [
    "# remove records with abnormally big value for \"second\" (> e+05): \n",
    "abnormality_threshold = 10**5\n",
    "features_df = features_df.loc[features_df.second<=abnormality_threshold]"
   ]
  },
  {
   "cell_type": "markdown",
   "metadata": {},
   "source": [
    "* only a few trips (14 out of 19982) are longer than 1 hour in training data --> remove these trips from training, so that later padding is easier"
   ]
  },
  {
   "cell_type": "code",
   "execution_count": 8,
   "metadata": {},
   "outputs": [],
   "source": [
    "# identify booking ID of trips longer than 1 hour\n",
    "long_trip_ID = features_df.loc[features_df.second>=1*60*60].bookingID.unique()\n",
    "\n",
    "# remove these booking IDs from features\n",
    "features_df = features_df[~features_df.bookingID.isin(long_trip_ID)]\n",
    "\n",
    "# remove these booking IDs from labels\n",
    "labels_df = labels_df[~labels_df.bookingID.isin(long_trip_ID)]"
   ]
  },
  {
   "cell_type": "markdown",
   "metadata": {},
   "source": [
    "* sort bookings by bookingID and second"
   ]
  },
  {
   "cell_type": "code",
   "execution_count": 9,
   "metadata": {},
   "outputs": [],
   "source": [
    "features_df.sort_values(['bookingID','second'], inplace=True)"
   ]
  },
  {
   "cell_type": "markdown",
   "metadata": {},
   "source": [
    "## feature scaling\n",
    "- the features have many outliers and these outliers are important (indicative of dangerous driving behaviour), hence, we do not want to clip the data\n",
    "- StandardScaler and MinMaxScaler are sensitive to the presence of outliers, hence, we'll use RobustScaler"
   ]
  },
  {
   "cell_type": "markdown",
   "metadata": {},
   "source": [
    "#### acceleration\n",
    "* shifting acceleration_y by gravitational force g = 9.81\n",
    "* since acceleration_x is in the range of [0.5, -0.5], we don't want to scale acceleration again\n",
    "* since 0 acceleration has special meaning, we don't want to center acceleration\n"
   ]
  },
  {
   "cell_type": "code",
   "execution_count": 10,
   "metadata": {},
   "outputs": [],
   "source": [
    "g = 9.81 # gravitational force\n",
    "features_df['acceleration_y_shifted'] = features_df['acceleration_y'] - g\n",
    "features_df.drop('acceleration_y', axis=1, inplace=True)\n",
    "features_df.rename(columns={'acceleration_y_shifted':'acceleration_y'}, inplace=True)"
   ]
  },
  {
   "cell_type": "markdown",
   "metadata": {},
   "source": [
    "#### GPS"
   ]
  },
  {
   "cell_type": "code",
   "execution_count": 11,
   "metadata": {},
   "outputs": [],
   "source": [
    "# fit, and save\n",
    "scaler_gps = RobustScaler(copy=True, quantile_range=(25.0, 75.0), with_centering=True, with_scaling=True)\n",
    "scaler_gps.fit(features_df[['Accuracy', 'Bearing','Speed']])\n",
    "joblib.dump(scaler_gps, 'model/scaler_gps.save') \n",
    "\n",
    "# transform\n",
    "features_df[['Accuracy', 'Bearing','Speed']] = scaler_gps.transform(features_df[['Accuracy', 'Bearing','Speed']])"
   ]
  },
  {
   "cell_type": "markdown",
   "metadata": {},
   "source": [
    "#### gyro\n",
    "-  since 0 gyro has special meaning, we don't want to center gyro (it's already quite centered)"
   ]
  },
  {
   "cell_type": "code",
   "execution_count": 12,
   "metadata": {},
   "outputs": [],
   "source": [
    "# fit, and save\n",
    "scaler_gyro = RobustScaler(copy=True, quantile_range=(25.0, 75.0), with_centering=False, with_scaling=True)\n",
    "scaler_gyro.fit(features_df[['gyro_x', 'gyro_y','gyro_z']])\n",
    "joblib.dump(scaler_gps, 'model/scaler_gyro.save') \n",
    "\n",
    "# transform\n",
    "features_df[['gyro_x', 'gyro_y','gyro_z']] = scaler_gyro.transform(features_df[['gyro_x', 'gyro_y','gyro_z']])"
   ]
  },
  {
   "cell_type": "markdown",
   "metadata": {},
   "source": [
    "#### box plot"
   ]
  },
  {
   "cell_type": "code",
   "execution_count": 13,
   "metadata": {},
   "outputs": [
    {
     "data": {
      "text/plain": [
       "<matplotlib.axes._subplots.AxesSubplot at 0x14d08016518>"
      ]
     },
     "execution_count": 13,
     "metadata": {},
     "output_type": "execute_result"
    },
    {
     "data": {
      "image/png": "[encoded data removed]",
      "text/plain": [
       "<Figure size 720x720 with 9 Axes>"
      ]
     },
     "metadata": {},
     "output_type": "display_data"
    }
   ],
   "source": [
    "# box plot after scaling\n",
    "plt.figure()\n",
    "ax1 = plt.subplot(331)\n",
    "features_df.Accuracy.plot(kind='box', figsize=[10,10], showfliers=False, ax=ax1)\n",
    "ax2 = plt.subplot(332)\n",
    "features_df.Bearing.plot(kind='box', figsize=[10,10], showfliers=False, ax=ax2)\n",
    "ax3 = plt.subplot(333)\n",
    "features_df.Speed.plot(kind='box', figsize=[10,10], showfliers=False, ax=ax3)\n",
    "ax4 = plt.subplot(334)\n",
    "features_df.acceleration_x.plot(kind='box', figsize=[10,10], showfliers=False, ax=ax4)\n",
    "ax5 = plt.subplot(335)\n",
    "features_df.acceleration_y.plot(kind='box', figsize=[10,10], showfliers=False, ax=ax5)\n",
    "ax6 = plt.subplot(336)\n",
    "features_df.acceleration_z.plot(kind='box', figsize=[10,10], showfliers=False, ax=ax6)\n",
    "ax7 = plt.subplot(337)\n",
    "features_df.gyro_x.plot(kind='box', figsize=[10,10], showfliers=False, ax=ax7)\n",
    "ax8 = plt.subplot(338)\n",
    "features_df.gyro_y.plot(kind='box', figsize=[10,10], showfliers=False, ax=ax8)\n",
    "ax9 = plt.subplot(339)\n",
    "features_df.gyro_z.plot(kind='box', figsize=[10,10], showfliers=False, ax=ax9)"
   ]
  },
  {
   "cell_type": "markdown",
   "metadata": {},
   "source": [
    "## padding"
   ]
  },
  {
   "cell_type": "markdown",
   "metadata": {},
   "source": [
    "In order to run CNN on the training data, let's pad all trips with 0 so that they have the same length (1 hour)"
   ]
  },
  {
   "cell_type": "code",
   "execution_count": 14,
   "metadata": {},
   "outputs": [],
   "source": [
    "# create table keys\n",
    "unique_bookingID = features_df[['bookingID']].drop_duplicates().sort_values('bookingID')\n",
    "unique_second = pd.DataFrame(data=list(np.arange(0,3600,1.0)), columns=[\"second\"])"
   ]
  },
  {
   "cell_type": "code",
   "execution_count": 15,
   "metadata": {},
   "outputs": [],
   "source": [
    "# cartesian product with keys\n",
    "unique_bookingID['key'] = 0\n",
    "unique_second['key'] = 0\n",
    "bookingID_second = unique_bookingID.merge(unique_second, on='key', how='outer').drop(columns=['key'])"
   ]
  },
  {
   "cell_type": "code",
   "execution_count": 16,
   "metadata": {},
   "outputs": [],
   "source": [
    "# outer join with features by bookingID and second\n",
    "features_df = bookingID_second.merge(features_df, on=['bookingID', 'second'], how='outer')"
   ]
  },
  {
   "cell_type": "code",
   "execution_count": 17,
   "metadata": {},
   "outputs": [],
   "source": [
    "# padding\n",
    "features_df.fillna(0, inplace=True)"
   ]
  },
  {
   "cell_type": "code",
   "execution_count": 18,
   "metadata": {},
   "outputs": [
    {
     "data": {
      "text/plain": [
       "True"
      ]
     },
     "execution_count": 18,
     "metadata": {},
     "output_type": "execute_result"
    }
   ],
   "source": [
    "# check features df shape after padding\n",
    "features_df.shape[0]==unique_bookingID.shape[0]*unique_second.shape[0]"
   ]
  },
  {
   "cell_type": "markdown",
   "metadata": {},
   "source": [
    "## convert features df to 3d array"
   ]
  },
  {
   "cell_type": "markdown",
   "metadata": {},
   "source": [
    "* array dimension = (#bookings, #seconds, #features)\n",
    "* this will take a while"
   ]
  },
  {
   "cell_type": "code",
   "execution_count": 19,
   "metadata": {},
   "outputs": [
    {
     "name": "stdout",
     "output_type": "stream",
     "text": [
      "21:32:04 : start Accuracy\n",
      "21:32:45 : start Bearing\n",
      "21:33:27 : start Speed\n"
     ]
    }
   ],
   "source": [
    "# GPS features\n",
    "\n",
    "print(time.strftime(\"%H:%M:%S\"),\": start Accuracy\")\n",
    "accuracy_arr = features_df.pivot_table(index=\"bookingID\", columns=\"second\", values=\"Accuracy\").values\n",
    "\n",
    "print(time.strftime(\"%H:%M:%S\"),\": start Bearing\")\n",
    "bearing_arr = features_df.pivot_table(index=\"bookingID\", columns=\"second\", values=\"Bearing\").values\n",
    "\n",
    "print(time.strftime(\"%H:%M:%S\"),\": start Speed\")\n",
    "speed_arr = features_df.pivot_table(index=\"bookingID\", columns=\"second\", values=\"Speed\").values"
   ]
  },
  {
   "cell_type": "code",
   "execution_count": 20,
   "metadata": {},
   "outputs": [
    {
     "name": "stdout",
     "output_type": "stream",
     "text": [
      "21:34:08 : start acceleration_x\n",
      "21:34:47 : start acceleration_y\n",
      "21:35:26 : start acceleration_z\n"
     ]
    }
   ],
   "source": [
    "# acceleration\n",
    "\n",
    "print(time.strftime(\"%H:%M:%S\"),\": start acceleration_x\")\n",
    "acceleration_x_arr = features_df.pivot_table(index=\"bookingID\", columns=\"second\", values=\"acceleration_x\").values\n",
    "\n",
    "print(time.strftime(\"%H:%M:%S\"),\": start acceleration_y\")\n",
    "acceleration_y_arr = features_df.pivot_table(index=\"bookingID\", columns=\"second\", values=\"acceleration_y\").values\n",
    "\n",
    "print(time.strftime(\"%H:%M:%S\"),\": start acceleration_z\")\n",
    "acceleration_z_arr = features_df.pivot_table(index=\"bookingID\", columns=\"second\", values=\"acceleration_z\").values"
   ]
  },
  {
   "cell_type": "code",
   "execution_count": 22,
   "metadata": {},
   "outputs": [
    {
     "name": "stdout",
     "output_type": "stream",
     "text": [
      "21:38:11 : start gyro_x\n",
      "21:38:55 : start gyro_y\n",
      "21:39:33 : start gyro_z\n"
     ]
    }
   ],
   "source": [
    "# gyro\n",
    "\n",
    "print(time.strftime(\"%H:%M:%S\"),\": start gyro_x\")\n",
    "gyro_x_arr = features_df.pivot_table(index=\"bookingID\", columns=\"second\", values=\"gyro_x\").values\n",
    "\n",
    "print(time.strftime(\"%H:%M:%S\"),\": start gyro_y\")\n",
    "gyro_y_arr = features_df.pivot_table(index=\"bookingID\", columns=\"second\", values=\"gyro_y\").values\n",
    "\n",
    "print(time.strftime(\"%H:%M:%S\"),\": start gyro_z\")\n",
    "gyro_z_arr = features_df.pivot_table(index=\"bookingID\", columns=\"second\", values=\"gyro_z\").values"
   ]
  },
  {
   "cell_type": "code",
   "execution_count": 23,
   "metadata": {},
   "outputs": [],
   "source": [
    "# stack all features together to create a 3d array\n",
    "features_arr = np.stack((accuracy_arr, bearing_arr, speed_arr, \n",
    "                         acceleration_x_arr, acceleration_y_arr, acceleration_z_arr, \n",
    "                         gyro_x_arr, gyro_y_arr, gyro_z_arr), axis=2)"
   ]
  },
  {
   "cell_type": "code",
   "execution_count": 24,
   "metadata": {},
   "outputs": [
    {
     "data": {
      "text/plain": [
       "(19968, 3600, 9)"
      ]
     },
     "execution_count": 24,
     "metadata": {},
     "output_type": "execute_result"
    }
   ],
   "source": [
    "features_arr.shape"
   ]
  },
  {
   "cell_type": "markdown",
   "metadata": {},
   "source": [
    "## convert lables df to array"
   ]
  },
  {
   "cell_type": "markdown",
   "metadata": {},
   "source": [
    "* array dimension = (#bookings, 1)"
   ]
  },
  {
   "cell_type": "code",
   "execution_count": 25,
   "metadata": {},
   "outputs": [],
   "source": [
    "labels_arr = labels_df.sort_values('bookingID')[['label']].values"
   ]
  },
  {
   "cell_type": "code",
   "execution_count": 26,
   "metadata": {},
   "outputs": [
    {
     "data": {
      "text/plain": [
       "(19968, 1)"
      ]
     },
     "execution_count": 26,
     "metadata": {},
     "output_type": "execute_result"
    }
   ],
   "source": [
    "labels_arr.shape"
   ]
  },
  {
   "cell_type": "markdown",
   "metadata": {},
   "source": [
    "## save processed training data"
   ]
  },
  {
   "cell_type": "code",
   "execution_count": 29,
   "metadata": {},
   "outputs": [],
   "source": [
    "# save features array\n",
    "save_path = 'data/safety/features_arr.npy'\n",
    "np.save(save_path, features_arr)"
   ]
  },
  {
   "cell_type": "code",
   "execution_count": 30,
   "metadata": {},
   "outputs": [],
   "source": [
    "# save labels array\n",
    "save_path = 'data/safety/labels_arr.npy'\n",
    "np.save(save_path, labels_arr)"
   ]
  }
 ],
 "metadata": {
  "kernelspec": {
   "display_name": "Python 3",
   "language": "python",
   "name": "python3"
  },
  "language_info": {
   "codemirror_mode": {
    "name": "ipython",
    "version": 3
   },
   "file_extension": ".py",
   "mimetype": "text/x-python",
   "name": "python",
   "nbconvert_exporter": "python",
   "pygments_lexer": "ipython3",
   "version": "3.6.5"
  }
 },
 "nbformat": 4,
 "nbformat_minor": 2
}
